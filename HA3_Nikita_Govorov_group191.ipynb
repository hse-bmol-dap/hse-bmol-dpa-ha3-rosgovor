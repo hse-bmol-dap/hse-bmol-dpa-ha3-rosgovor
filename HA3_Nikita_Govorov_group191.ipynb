{
 "cells": [
  {
   "cell_type": "markdown",
   "metadata": {
    "collapsed": false
   },
   "source": [
    "# <center> Home Assignment 3</center>"
   ]
  },
  {
   "cell_type": "markdown",
   "metadata": {
    "collapsed": false
   },
   "source": [
    "There are 5 tasks to be done. Each of them weighs 2 points. There is also an extra bonus task (it is a little bit harder), you are not required to solve it: you can get 10/10 by solving only the first 5 tasks. However, the bonus task also weighs 2 points and it serves as insurance in case you are not able to solve one of the first 5 tasks. If you solve everything, you will get the same 10/10 and will deserve respect."
   ]
  },
  {
   "cell_type": "markdown",
   "metadata": {
    "collapsed": false
   },
   "source": [
    "**Task 1. (2 points)** <br>\n",
    "**<center> List compression</center>**"
   ]
  },
  {
   "cell_type": "markdown",
   "metadata": {
    "collapsed": false
   },
   "source": [
    "You are given a list of integers (in the input: numbers in one line separated by one whitespace). It is required to write a function that “compresses” the given list by moving all non-zero elements to the ```left side``` of the list without changing their order, and all zeros to the ```right side```. The order of non-zero elements cannot be changed, an additional list (memory) ```cannot be used```, the task must be completed in ```one pass``` through the list. The function is supposed to return the resulting list. <br>\n",
    "**Example:** <br>\n",
    "```input:```  ```4 0 5 0 3 0 0 5``` <br>\n",
    "array = [4, 0, 5, 0, 3, 0, 0, 5] <br>\n",
    "```output:``` [4, 5, 3, 5, 0, 0, 0, 0]"
   ]
  },
  {
   "cell_type": "code",
   "execution_count": 62,
   "metadata": {
    "cocalc": {
     "outputs": {
      "0": {
       "name": "input",
       "opts": {
        "password": false,
        "prompt": ""
       },
       "output_type": "stream",
       "value": "0 0 0 3 2 1"
      }
     }
    },
    "collapsed": false
   },
   "outputs": [
    {
     "name": "stdout",
     "output_type": "stream",
     "text": " 0 0 0 3 2 1"
    },
    {
     "name": "stdout",
     "output_type": "stream",
     "text": [
      "[3, 2, 1, 0, 0, 0]\n"
     ]
    }
   ],
   "source": [
    "array = [int(x) for x in input().split()]\n",
    "\n",
    "def compress_list(array):\n",
    "    count = 0\n",
    "    for i in range(len(array)):\n",
    "        if array[i] != 0:\n",
    "            array[count] = array[i]\n",
    "            count+=1\n",
    "\n",
    "    while count < len(array):\n",
    "        array[count] = 0\n",
    "        count += 1\n",
    "compress_list(array)\n",
    "print(array)"
   ]
  },
  {
   "cell_type": "markdown",
   "metadata": {
    "collapsed": false
   },
   "source": [
    "**Task 2. (2 points)** <br>\n",
    "**<center> The 2020 United States presidential election</center>**"
   ]
  },
  {
   "cell_type": "markdown",
   "metadata": {
    "collapsed": false
   },
   "source": [
    "As you know, in the United States the president is not elected by a direct vote, but by a two-level vote. First, elections are held in each state and the winner of the elections in that state is determined. Then the state elections are held: in these elections, each state has a certain number of votes - the number of electors from that state. In practice, all state electors vote according to the results of intra-state voting, that is, states with a different number of votes vote in the final stage of elections. You know who each state voted for and how many votes were cast by that state. Sum up the results of the elections: for each of the voting participants, determine the number of votes cast for him. <br>\n",
    "**Input format:** <br> \n",
    "Each line of the input consists of ```the surname of the candidate```, for which the electors of that state are voting, followed by ```the number of electors``` who voted for this candidate, separated by a space. The input lines are supposed to be read in a cycle. The input itself ends when the following line contains ```-1```. In the end, you should obtain a list ```input_lines``` with strings, where one string equals to one input line (e.g. 'McCain 10'). <br>\n",
    "**Output format:** <br>\n",
    "Print the surnames of all candidates in a lexicographic order and the number of votes cast for them, separated by a space. <br>\n",
    "**Example:** <br>\n",
    "```input:``` <br> \n",
    "```McCain 10\n",
    "McCain 5\n",
    "Obama 9\n",
    "Obama 8\n",
    "McCain 1\n",
    "-1``` <br>\n",
    "\n",
    "input_lines = ['McCain 10', 'McCain 5', 'Obama 9', 'Obama 8', 'McCain 1'] <br>\n",
    "\n",
    "```output:``` <br>\n",
    "McCain 16 <br>\n",
    "Obama 17 <br>"
   ]
  },
  {
   "cell_type": "code",
   "execution_count": 69,
   "metadata": {
    "cocalc": {
     "outputs": {
      "0": {
       "name": "input",
       "opts": {
        "password": false,
        "prompt": ""
       },
       "output_type": "stream",
       "value": "McCain 10"
      },
      "1": {
       "name": "input",
       "opts": {
        "password": false,
        "prompt": ""
       },
       "output_type": "stream",
       "value": "McCain 5"
      },
      "2": {
       "name": "input",
       "opts": {
        "password": false,
        "prompt": ""
       },
       "output_type": "stream",
       "value": "Obama 9"
      },
      "3": {
       "name": "input",
       "opts": {
        "password": false,
        "prompt": ""
       },
       "output_type": "stream",
       "value": "Obama 8"
      },
      "4": {
       "name": "input",
       "opts": {
        "password": false,
        "prompt": ""
       },
       "output_type": "stream",
       "value": "McCain 1"
      },
      "5": {
       "name": "input",
       "opts": {
        "password": false,
        "prompt": ""
       },
       "output_type": "stream",
       "value": "-1"
      }
     }
    },
    "collapsed": false
   },
   "outputs": [
    {
     "name": "stdout",
     "output_type": "stream",
     "text": " McCain 10"
    },
    {
     "name": "stdout",
     "output_type": "stream",
     "text": " McCain 5"
    },
    {
     "name": "stdout",
     "output_type": "stream",
     "text": " Obama 9"
    },
    {
     "name": "stdout",
     "output_type": "stream",
     "text": " Obama 8"
    },
    {
     "name": "stdout",
     "output_type": "stream",
     "text": " McCain 1"
    },
    {
     "name": "stdout",
     "output_type": "stream",
     "text": " -1"
    },
    {
     "name": "stdout",
     "output_type": "stream",
     "text": [
      "McCain 16\n",
      "Obama 17\n"
     ]
    }
   ],
   "source": [
    "# Input\n",
    "input_lines = []\n",
    "# YOUR CODE HERE\n",
    "while True:\n",
    "    line = input()\n",
    "    if(line == \"-1\"):\n",
    "        break\n",
    "    input_lines.append(line)\n",
    "\n",
    "def count_votes(input_lines):\n",
    "    dict = {}\n",
    "    for l in input_lines:\n",
    "        name = l.split()[0]\n",
    "        vote = int(l.split()[1])\n",
    "        if(name in dict.keys()):\n",
    "            dict[name] += vote\n",
    "        else:\n",
    "            dict[name] = vote\n",
    "    for i in dict.keys():\n",
    "        print(i +\" \"+ str(dict.get(i)))\n",
    "count_votes(input_lines)\n"
   ]
  },
  {
   "cell_type": "markdown",
   "metadata": {
    "collapsed": false
   },
   "source": [
    "**Task 3. (2 points)** <br>\n",
    "**<center> Matching pairs</center>**"
   ]
  },
  {
   "cell_type": "markdown",
   "metadata": {
    "collapsed": false
   },
   "source": [
    "You are given a list of numbers (in the input: numbers in one line separated by one whitespace). Write a function that returns the number of pairs of elements which are equal to each other. It is considered that ```any``` two elements equal to each other form one pair, which must be counted. Indices of elements matters. In Test 2, in terms of indices, 10 pairs are the following: [0, 1], [0, 2], [0, 3], [0, 4], [1, 2], [1, 3], [1, 4], [2, 3], [2, 4], [3, 4]. That's why the answer is 10.  <br>\n",
    "**Examples:** <br>\n",
    "**Test 1** <br>\n",
    "```input:``` ```1 2 3 2 3``` <br>\n",
    "array = [1, 2, 3, 2, 3] <br>\n",
    "```output:``` 2 <br>\n",
    "**Test 2** <br>\n",
    "```input:``` ```1 1 1 1 1``` <br>\n",
    "array = [1, 1, 1, 1, 1] <br>\n",
    "```output:``` 10 <br>"
   ]
  },
  {
   "cell_type": "code",
   "execution_count": 70,
   "metadata": {
    "cocalc": {
     "outputs": {
      "0": {
       "name": "input",
       "opts": {
        "password": false,
        "prompt": ""
       },
       "output_type": "stream",
       "value": "1 1 1 1 1"
      }
     }
    },
    "collapsed": false
   },
   "outputs": [
    {
     "name": "stdout",
     "output_type": "stream",
     "text": " 1 1 1 1 1"
    },
    {
     "name": "stdout",
     "output_type": "stream",
     "text": [
      "10\n"
     ]
    }
   ],
   "source": [
    "array = [int(x) for x in input().split()]\n",
    "\n",
    "def count_pairs(array):\n",
    "    count = 0\n",
    "    for i in range(len(array)):\n",
    "        for j in range(i+1,len(array)):\n",
    "            if(array[i]== array[j]):\n",
    "                count +=1\n",
    "    print(count)\n",
    "count_pairs(array)"
   ]
  },
  {
   "cell_type": "markdown",
   "metadata": {
    "collapsed": false
   },
   "source": [
    "**Task 4. (2 points)** <br>\n",
    "**<center> The most frequent countries</center>**"
   ]
  },
  {
   "cell_type": "markdown",
   "metadata": {
    "collapsed": false
   },
   "source": [
    "Your are given a list of countries (in the input: countries in one line separated by one whitespace). It is required to write a function that determines which country occurs most often in this list and returns it without ```changing``` an input list or using ```additional lists```. If there are several such countries, return a list with all of them. <br>\n",
    "**Examples:** <br>\n",
    "**Test 1** <br>\n",
    "```input:``` ```India Austria India Italy Austria India``` <br>\n",
    "countries = ['India', 'Austria', 'India', 'Italy', 'Austria', 'India'] <br>\n",
    "```output:``` 'India' <br>\n",
    "**Test 2** <br>\n",
    "```input:``` ```Germany Poland Russia Germany France Russia``` <br>\n",
    "countries = ['Germany', 'Poland', 'Russia', 'Germany', 'France', 'Russia'] <br>\n",
    "```output:``` ['Germany', 'Russia']"
   ]
  },
  {
   "cell_type": "code",
   "execution_count": 76,
   "metadata": {
    "cocalc": {
     "outputs": {
      "0": {
       "name": "input",
       "opts": {
        "password": false,
        "prompt": ""
       },
       "output_type": "stream",
       "value": " Germany Poland Russia Germany France Russia"
      }
     }
    },
    "collapsed": false
   },
   "outputs": [
    {
     "name": "stdout",
     "output_type": "stream",
     "text": "  Germany Poland Russia Germany France Russia"
    },
    {
     "name": "stdout",
     "output_type": "stream",
     "text": [
      "['Germany', 'Russia']\n"
     ]
    }
   ],
   "source": [
    "countries = [x for x in input().split()]\n",
    "\n",
    "def most_frequent_countries(countries):\n",
    "    dict = {}\n",
    "    max = 0\n",
    "    for c in countries:\n",
    "        amount = countries.count(c)\n",
    "        if(max<amount):\n",
    "            max = amount\n",
    "        dict[c] = amount\n",
    "    ans = []\n",
    "    for key in dict.keys():\n",
    "        if(dict[key] == max):\n",
    "            ans.append(key)\n",
    "    if(len(ans) == 1):\n",
    "        print(ans[0])\n",
    "    else:\n",
    "        print(ans)\n",
    "most_frequent_countries(countries)"
   ]
  },
  {
   "cell_type": "markdown",
   "metadata": {
    "collapsed": false
   },
   "source": [
    "**Task 5. (2 points)** <br>\n",
    "**<center> The Queen's Gambit </center>**"
   ]
  },
  {
   "cell_type": "markdown",
   "metadata": {
    "collapsed": false
   },
   "source": [
    "It is known that 8 queens can be placed on an 8 × 8 chessboard so that they do not beat each other. You are given the arrangement of 8 queens on the board, determine if there is a pair of them hitting each other. <br>\n",
    "**Input format:** <br>\n",
    "The program receives eight pairs of numbers as an input, each number from 1 to 8 is the coordinates of 8 queens.<br>\n",
    "**Output format:** <br>\n",
    "If the queens do not beat each other, print the word ```NO```, otherwise print ```YES```. <br>\n",
    "**Examples:** <br>\n",
    "**Test 1** <br>\n",
    "```input:``` <br>\n",
    "1 7 <br>\n",
    "2 4 <br>\n",
    "3 2 <br>\n",
    "4 8 <br>\n",
    "5 6 <br>\n",
    "6 1 <br>\n",
    "7 3 <br>\n",
    "8 5 <br>\n",
    "```output:``` <br>\n",
    "NO <br>\n",
    "**Test 2** <br>\n",
    "```input:``` <br>\n",
    "1 8 <br>\n",
    "2 7 <br>\n",
    "3 6 <br>\n",
    "4 5 <br>\n",
    "5 4 <br>\n",
    "6 3 <br>\n",
    "7 2 <br>\n",
    "8 1 <br>\n",
    "```output:``` <br>\n",
    "YES"
   ]
  },
  {
   "cell_type": "code",
   "execution_count": 57,
   "metadata": {
    "cocalc": {
     "outputs": {
      "0": {
       "name": "input",
       "opts": {
        "password": false,
        "prompt": ""
       },
       "output_type": "stream",
       "value": "1 8"
      },
      "1": {
       "name": "input",
       "opts": {
        "password": false,
        "prompt": ""
       },
       "output_type": "stream",
       "value": "2 7"
      },
      "2": {
       "name": "input",
       "opts": {
        "password": false,
        "prompt": ""
       },
       "output_type": "stream",
       "value": "3 6"
      },
      "3": {
       "name": "input",
       "opts": {
        "password": false,
        "prompt": ""
       },
       "output_type": "stream",
       "value": "4 5"
      },
      "4": {
       "name": "input",
       "opts": {
        "password": false,
        "prompt": ""
       },
       "output_type": "stream",
       "value": "5 4"
      },
      "5": {
       "name": "input",
       "opts": {
        "password": false,
        "prompt": ""
       },
       "output_type": "stream",
       "value": "6 3"
      },
      "6": {
       "name": "input",
       "opts": {
        "password": false,
        "prompt": ""
       },
       "output_type": "stream",
       "value": "7 2"
      },
      "7": {
       "name": "input",
       "opts": {
        "password": false,
        "prompt": ""
       },
       "output_type": "stream",
       "value": "8 1"
      }
     }
    },
    "collapsed": false
   },
   "outputs": [
    {
     "name": "stdout",
     "output_type": "stream",
     "text": " 1 8"
    },
    {
     "name": "stdout",
     "output_type": "stream",
     "text": " 2 7"
    },
    {
     "name": "stdout",
     "output_type": "stream",
     "text": " 3 6"
    },
    {
     "name": "stdout",
     "output_type": "stream",
     "text": " 4 5"
    },
    {
     "name": "stdout",
     "output_type": "stream",
     "text": " 5 4"
    },
    {
     "name": "stdout",
     "output_type": "stream",
     "text": " 6 3"
    },
    {
     "name": "stdout",
     "output_type": "stream",
     "text": " 7 2"
    },
    {
     "name": "stdout",
     "output_type": "stream",
     "text": " 8 1"
    },
    {
     "name": "stdout",
     "output_type": "stream",
     "text": [
      "YES\n"
     ]
    }
   ],
   "source": [
    "# input of any format\n",
    "input_lines = []\n",
    "# YOUR CODE HERE\n",
    "for i in range(8):\n",
    "    inp = input().split()\n",
    "    x = int(inp[0])\n",
    "    y = int(inp[1])\n",
    "    input_lines.append([x,y])\n",
    "\n",
    "def is_beaten_by_queen(input_lines):\n",
    "    flag = True\n",
    "    for i in range(len(input_lines)):\n",
    "        for j in range(i+1,len(input_lines)):\n",
    "            if(input_lines[i][0] == input_lines[j][0]) or\\\n",
    "            (input_lines[i][1] == input_lines[j][1]) or\\\n",
    "            (input_lines[i][0] - input_lines[i][1] == input_lines[j][0] - input_lines[j][1]) or\\\n",
    "            (input_lines[i][0] + input_lines[i][1] == input_lines[j][0] + input_lines[j][1]):\n",
    "                flag = False\n",
    "                break\n",
    "    if(flag):\n",
    "        print(\"NO\")\n",
    "    else:\n",
    "        print(\"YES\")\n",
    "is_beaten_by_queen(input_lines)"
   ]
  },
  {
   "cell_type": "markdown",
   "metadata": {
    "collapsed": false
   },
   "source": [
    "**Bonus task! 2 additional points** <br>\n",
    "**<center> Family tree</center>**"
   ]
  },
  {
   "cell_type": "markdown",
   "metadata": {
    "collapsed": false
   },
   "source": [
    "In the family tree, each person, except for the ancestor, has exactly one parent. Each element of the tree is associated with a ```non-negative integer``` called the height. The ancestor has a height of 0, any other element has a height 1 ```more``` than its parent. You are given a family tree, determine the height of all its elements. <br>\n",
    "**Input format:** <br>\n",
    "The program receives as input the number of elements in the family tree N. Then N-1 lines follow, specifying the parent for each element of the tree, except for the ancestor. Each line has the form descendant_name parent_name (two words separated by a space) <br>\n",
    "**Output format:** <br>\n",
    "The program should list all the elements in the tree in a lexicographic order. After printing the name of each element, it should print its height. <br>\n",
    "**Note:** <br>\n",
    "This problem has a solution of complexity O(n), but you only need to write a solution of complexity O(n²) (not counting the complexity of accessing the elements of the dictionary). The example below corresponds to the given tree of the Romanov family. <br>\n",
    "**Example:** <br>\n",
    "```input:``` <br>\n",
    "9 <br>\n",
    "Alexei Peter_I <br>\n",
    "Anna Peter_I <br>\n",
    "Elizabeth Peter_I <br>\n",
    "Peter_II Alexei <br>\n",
    "Peter_III Anna <br>\n",
    "Paul_I Peter_III <br>\n",
    "Alexander_I Paul_I <br>\n",
    "Nicholaus_I Paul_I <br>\n",
    "```output:``` <br>\n",
    "Alexander_I 4 <br>\n",
    "Alexei 1 <br>\n",
    "Anna 1 <br>\n",
    "Elizabeth 1 <br>\n",
    "Nicholaus_I 4 <br>\n",
    "Paul_I 3 <br>\n",
    "Peter_I 0 <br>\n",
    "Peter_II 2 <br>\n",
    "Peter_III 2 <br>"
   ]
  },
  {
   "cell_type": "code",
   "execution_count": 0,
   "metadata": {
    "collapsed": false
   },
   "outputs": [
   ],
   "source": [
    "# YOUR CODE HERE"
   ]
  },
  {
   "cell_type": "code",
   "execution_count": 0,
   "metadata": {
    "collapsed": false
   },
   "outputs": [
   ],
   "source": [
   ]
  }
 ],
 "metadata": {
  "kernelspec": {
   "display_name": "Python 3 (system-wide)",
   "language": "python",
   "metadata": {
    "cocalc": {
     "description": "Python 3 programming language",
     "priority": 100,
     "url": "https://www.python.org/"
    }
   },
   "name": "python3",
   "resource_dir": "/ext/jupyter/kernels/python3"
  },
  "language_info": {
   "codemirror_mode": {
    "name": "ipython",
    "version": 3
   },
   "file_extension": ".py",
   "mimetype": "text/x-python",
   "name": "python",
   "nbconvert_exporter": "python",
   "pygments_lexer": "ipython3",
   "version": "3.8.5"
  }
 },
 "nbformat": 4,
 "nbformat_minor": 4
}